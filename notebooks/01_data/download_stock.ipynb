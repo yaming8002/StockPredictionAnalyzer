{
 "cells": [
  {
   "cell_type": "code",
   "execution_count": null,
   "id": "c110a991-0b7d-45db-91e1-769335595246",
   "metadata": {},
   "outputs": [],
   "source": [
    "import os\n",
    "import pandas as pd\n",
    "import yfinance as yf\n",
    "from datetime import datetime, timedelta\n",
    "import argparse\n",
    "import json\n",
    "import sys\n",
    "\n",
    "# 建置yahooAPI 接收的日期格式\n",
    "STOCK_DATE_FORMAT = '%Y-%m-%d'\n",
    "\n",
    "# 下載股票的資料，同時更新股票ID的清單\n",
    "def download_and_save_stock_data(symbol, start_date, end_date, file_path, remove_list):\n",
    "    '''\n",
    "    下載股票的資料，同時更新股票ID的清單\n",
    "    symbol : 股票的ID\n",
    "    start_date, end_date：要下載的日期區間\n",
    "    file_path：要存放的檔案路徑\n",
    "    remove_list：紀錄後續要廢棄的股票資料\n",
    "    '''\n",
    "    print(f\"{symbol}: Downloading data from {start_date} to {end_date}\")\n",
    "    # stock = yf.Ticker(symbol)\n",
    "    output_file = f'{file_path}/{symbol}.csv'\n",
    "    stock_data = yf.download(f'{symbol}', start=start_date, end=end_date)\n",
    "    if stock_data.empty:\n",
    "        print(f\"{symbol}: 找不到對應的股票價格\")\n",
    "        remove_list.append(symbol)\n",
    "    elif len(stock_data) < 1500 :\n",
    "        print(f\"{symbol}: 資料量太少\")\n",
    "        remove_list.append(symbol)\n",
    "    elif stock_data.index[-1].year < current_year:\n",
    "        print(f\"{symbol}: 已經下市的股票\")\n",
    "        remove_list.append(symbol)\n",
    "    else:\n",
    "        stock_data.to_csv(output_file, mode='a', header=not os.path.isfile(output_file))\n",
    "        print(f\"{symbol}: Data downloaded and saved successfully\")\n",
    "\n",
    "# 建置 0000~9999的股票ID        \n",
    "numbers = [str(num).zfill(4) for num in range(10000)]\n",
    "# 建置 yahoo api 可以接受的台股代碼 TW 代表上市的股票， TWO代表上櫃的股票\n",
    "list_number = [f'{num}.TW' for num in numbers] +  [f'{num}.TWO' for num in numbers] \n",
    "#指定日期區間\n",
    "start_date = '2009-01-01' \n",
    "end_date = end_date = (datetime.now() + timedelta(days=1) ).strftime(STOCK_DATE_FORMAT) # 今日\n",
    "\n",
    "# 執行 download_and_save_stock_data\n",
    "remove_list = []\n",
    "file_path = 'F:/python/pystock/data/original'\n",
    "for download_id in list_number:\n",
    "    download_and_save_stock_data(download_id, start_date, end_date, file_path, remove_list)\n",
    "    \n",
    "# 整理未來需要的股票資料，建立資料存放對應的資料檔案\n",
    "remove_list = list( set(remove_list))\n",
    "list_number = [item for item in list_number if item not in remove_list]\n",
    "list_number\n",
    "df_list = pd.DataFrame(list_number)\n",
    "stock_List_path = 'F:/python/pystock/data/stock_List.csv'\n",
    "df_list.to_csv(stock_List_path, index=False)"
   ]
  },
  {
   "cell_type": "code",
   "execution_count": null,
   "id": "5b04708c-58c7-473a-9b54-90328246b8c0",
   "metadata": {
    "tags": []
   },
   "outputs": [],
   "source": [
    "stock_List_path = 'F:/python/pystock/data/stock_List.csv'\n",
    "stock_List_data = pd.read_csv(stock_List_path, parse_dates=True)\n",
    "stock_List_data"
   ]
  },
  {
   "cell_type": "code",
   "execution_count": null,
   "id": "41394d9b-b912-4dbd-bddf-ca31b2c95ba0",
   "metadata": {},
   "outputs": [],
   "source": [
    "file_path = 'F:/python/pystock/data/original'\n",
    "stock_0050_data = pd.read_csv(f'{file_path}/0050.TW.csv', parse_dates=True)\n",
    "stock_0050_data"
   ]
  },
  {
   "cell_type": "code",
   "execution_count": null,
   "id": "5180f8e3-1594-49b9-a3a9-4803e8e3cd76",
   "metadata": {
    "tags": []
   },
   "outputs": [],
   "source": [
    "import pandas as pd\n",
    "from datetime import datetime, timedelta\n",
    "import mplfinance as mpf\n",
    "\n",
    "file_path = 'F:/python/pystock/data/original'\n",
    "stock_0050_data = pd.read_csv(f'{file_path}/0050.TW.csv',index_col=0, parse_dates=True)\n",
    "\n",
    "date_str = '2023-01-13'\n",
    "input_date = datetime.strptime(date_str, '%Y-%m-%d')\n",
    "\n",
    "# 計算 start_date 和 end_date\n",
    "start_date = input_date - timedelta(days=30)\n",
    "end_date = input_date + timedelta(days=5)\n",
    "\n",
    "# 設定日期區間\n",
    "start_date_str = start_date.strftime('%Y-%m-%d')\n",
    "end_date_str = end_date.strftime('%Y-%m-%d')\n",
    "data = stock_0050_data.loc[start_date_str:end_date_str]\n",
    "\n",
    "kwargs = dict(type='candle', volume=True, title='Stock Price', ylabel='Price')\n",
    "print(data )\n",
    "# 繪製K線圖\n",
    "mpf.plot(data, **kwargs)\n",
    "\n"
   ]
  },
  {
   "cell_type": "code",
   "execution_count": null,
   "id": "79c4b443-4d84-4d4f-a8f7-7b1f49d3db5c",
   "metadata": {},
   "outputs": [],
   "source": [
    "volume_list_total = []\n",
    "path = 'F:\\\\python\\\\pystock\\\\data\\\\original'\n",
    "df = pd.read_csv(f'{path}/0050.TW.csv')\n",
    "\n",
    "file_list = os.listdir(path)\n",
    "for x in file_list:\n",
    "    df = pd.read_csv(f'{path}/{x}')\n",
    "    df['value_mon'] =  df.Volume*df.Close\n",
    "    volume_list_total += list(df['value_mon'])\n",
    "volume_list_total"
   ]
  },
  {
   "cell_type": "code",
   "execution_count": 27,
   "id": "38a6381f-43c9-426d-b88d-a15a55d0b5cb",
   "metadata": {
    "tags": []
   },
   "outputs": [
    {
     "data": {
      "text/plain": [
       "5645159"
      ]
     },
     "execution_count": 27,
     "metadata": {},
     "output_type": "execute_result"
    }
   ],
   "source": [
    "len(volume_list_total)"
   ]
  },
  {
   "cell_type": "code",
   "execution_count": 46,
   "id": "fcddc0e0-b4a5-4bb5-9aa5-f4bedf388af7",
   "metadata": {
    "tags": []
   },
   "outputs": [
    {
     "data": {
      "image/png": "[encoded data removed]",
      "text/plain": [
       "<Figure size 640x480 with 1 Axes>"
      ]
     },
     "metadata": {},
     "output_type": "display_data"
    },
    {
     "name": "stdout",
     "output_type": "stream",
     "text": [
      "Confidence Interval:  (5625584.5305276215, 7236465.37242838)\n"
     ]
    }
   ],
   "source": [
    "import numpy as np\n",
    "import scipy.stats as stats\n",
    "import matplotlib.pyplot as plt\n",
    "\n",
    "data = np.array(volume_list_total)\n",
    "\n",
    "sample_size = 1000\n",
    "num_samples = 1000\n",
    "sample_means = []\n",
    "for _ in range(num_samples):\n",
    "    sample = np.random.choice(data, size=sample_size, replace=False)\n",
    "    sample_mean = np.mean(sample)\n",
    "    sample_means.append(sample_mean)\n",
    "\n",
    "# 计算置信区间\n",
    "mean = np.mean(sample_means)\n",
    "std_error = np.std(sample_means) / np.sqrt(num_samples)\n",
    "confidence_interval = (mean - 1.96 * std_error, mean + 1.96 * std_error)\n",
    "\n",
    "# 绘制正态分布图\n",
    "plt.hist(sample_means, bins=30, density=True, alpha=0.5)\n",
    "x = np.linspace(min(sample_means), max(sample_means), 100)\n",
    "y = 1 / (std_error * np.sqrt(2 * np.pi)) * np.exp(-(x - mean) ** 2 / (2 * std_error ** 2))\n",
    "plt.plot(x, y, color='r')\n",
    "plt.xlabel('Sample Means')\n",
    "plt.ylabel('Density')\n",
    "plt.title('Normal Distribution')\n",
    "\n",
    "# 显示图表\n",
    "plt.show()\n",
    "\n",
    "# 打印置信区间\n",
    "print(\"Confidence Interval: \", confidence_interval)"
   ]
  },
  {
   "cell_type": "code",
   "execution_count": 51,
   "id": "ed2d85aa-a9b0-400e-a666-16380bcc3d30",
   "metadata": {
    "tags": []
   },
   "outputs": [
    {
     "name": "stdout",
     "output_type": "stream",
     "text": [
      "6431.024951478001\n",
      "436249\n",
      "0.07727842563867554\n"
     ]
    }
   ],
   "source": [
    "nnn = []\n",
    "print(mean/1000)\n",
    "for x in volume_list_total:\n",
    "    if x > confidence_interval[0] :\n",
    "        nnn.append(x)\n",
    "print(len(nnn))\n",
    "print(len(nnn)/len(volume_list_total))"
   ]
  },
  {
   "cell_type": "code",
   "execution_count": 39,
   "id": "b9ce6773-d3e5-477c-ad0e-7a2385095688",
   "metadata": {
    "tags": []
   },
   "outputs": [],
   "source": [
    "value_mon_list_total = []\n",
    "path = 'F:\\\\python\\\\pystock\\\\data\\\\original'\n",
    "df = pd.read_csv(f'{path}/0050.TW.csv')\n",
    "\n",
    "file_list = os.listdir(path)\n",
    "for x in file_list:\n",
    "    df = pd.read_csv(f'{path}/{x}')\n",
    "    df['value_mon'] =  (df.Volume*df.Close)/1000\n",
    "    value_mon_list_total += list(df['value_mon'])\n",
    "# value_mon_list_total"
   ]
  },
  {
   "cell_type": "code",
   "execution_count": 40,
   "id": "366447ec-a32a-4174-aada-515bb15bb585",
   "metadata": {
    "tags": []
   },
   "outputs": [
    {
     "data": {
      "image/png": "[encoded data removed]",
      "text/plain": [
       "<Figure size 640x480 with 1 Axes>"
      ]
     },
     "metadata": {},
     "output_type": "display_data"
    },
    {
     "name": "stdout",
     "output_type": "stream",
     "text": [
      "Confidence Interval:  (143998.79166755456, 161728.94814761847)\n"
     ]
    }
   ],
   "source": [
    "data = np.array(value_mon_list_total)\n",
    "\n",
    "sample_size = 1000\n",
    "num_samples = 1000\n",
    "sample_means = []\n",
    "for _ in range(num_samples):\n",
    "    sample = np.random.choice(data, size=sample_size, replace=False)\n",
    "    sample_mean = np.mean(sample)\n",
    "    sample_means.append(sample_mean)\n",
    "\n",
    "# 计算置信区间\n",
    "mean = np.mean(sample_means)\n",
    "std_error = np.std(sample_means) / np.sqrt(num_samples)\n",
    "confidence_interval = (mean - 1.96 * std_error, mean + 1.96 * std_error)\n",
    "\n",
    "# 绘制正态分布图\n",
    "plt.hist(sample_means, bins=30, density=True, alpha=0.5)\n",
    "x = np.linspace(min(sample_means), max(sample_means), 100)\n",
    "y = 1 / (std_error * np.sqrt(2 * np.pi)) * np.exp(-(x - mean) ** 2 / (2 * std_error ** 2))\n",
    "plt.plot(x, y, color='r')\n",
    "plt.xlabel('Sample Means')\n",
    "plt.ylabel('Density')\n",
    "plt.title('Normal Distribution')\n",
    "\n",
    "# 显示图表\n",
    "plt.show()\n",
    "\n",
    "# 打印置信区间\n",
    "print(\"Confidence Interval: \", confidence_interval)"
   ]
  },
  {
   "cell_type": "code",
   "execution_count": 45,
   "id": "52c5570f-b5f7-4502-bccd-617ed5b5da44",
   "metadata": {
    "tags": []
   },
   "outputs": [
    {
     "name": "stdout",
     "output_type": "stream",
     "text": [
      "671231\n",
      "0.11890382538383773\n"
     ]
    }
   ],
   "source": [
    "nnn = []\n",
    "for x in value_mon_list_total:\n",
    "    if x > confidence_interval[0] :\n",
    "        nnn.append(x)\n",
    "print(len(nnn))\n",
    "print(len(nnn)/len(value_mon_list_total))"
   ]
  },
  {
   "cell_type": "code",
   "execution_count": 43,
   "id": "6310e21a-b7ff-4340-bbf2-e4d5bb80174d",
   "metadata": {
    "tags": []
   },
   "outputs": [
    {
     "data": {
      "image/png": "[encoded data removed]",
      "text/plain": [
       "<Figure size 640x480 with 1 Axes>"
      ]
     },
     "metadata": {},
     "output_type": "display_data"
    }
   ],
   "source": [
    "data1 = np.array(value_mon_list_total)\n",
    "plt.hist(data1, bins=100000, density=True, alpha=0.5)\n",
    "plt.xlabel('Value')\n",
    "plt.ylabel('Frequency')\n",
    "plt.title('Normal Distribution')\n",
    "\n",
    "# 显示图表\n",
    "plt.show()"
   ]
  },
  {
   "cell_type": "markdown",
   "id": "c33a39af-75ba-423d-bb71-30d73fe6aadf",
   "metadata": {},
   "source": [
    "它首先定義了一個函數 download_and_save_stock_data，該函數下載特定股票在特定日期範圍內的數據，並保存到指定的文件路徑中。\n",
    "\n",
    "然後，它建立了一個包含 0000 到 9999 的股票代碼列表，並對每一個股票代碼進行下載和保存操作。\n",
    "\n",
    "最後，它讀取和分析下載的股票數據，包括讀取股票列表，讀取特定股票的數據，繪製 K 線圖，計算交易量和價值，並進行統計分析。\n",
    "\n",
    "這個 Notebook 的確有些複雜，不過我們可以嘗試重構一下代碼以使其更加簡單和易於理解。對於小學生來說，我們可以進一步簡化一些複雜的統計分析部分，或者添加更詳細的註解來解釋這些部分的工作原理。我會儘量使用簡單的語言和概念來進行註解。\n",
    "\n",
    "讓我們先從第一個單元格開始。我們可以把較為複雜的函數拆解為幾個更小的部分，這樣可以讓小學生更容易理解每個部分的作用。我們也可以添加一些註解來解釋每個部分的工作原理。以下是我修改後的版本："
   ]
  },
  {
   "cell_type": "code",
   "execution_count": null,
   "id": "9773bbd4-a325-4f20-b0e8-354bfe924c08",
   "metadata": {},
   "outputs": [],
   "source": [
    "# 我們首先導入需要的模塊。這些模塊讓我們可以使用一些方便的功能。\n",
    "import os\n",
    "import pandas as pd\n",
    "import yfinance as yf\n",
    "from datetime import datetime, timedelta\n",
    "\n",
    "# 建置yahooAPI 接收的日期格式\n",
    "STOCK_DATE_FORMAT = '%Y-%m-%d'\n",
    "\n",
    "# 下載股票的資料，同時更新股票ID的清單\n",
    "def download_and_save_stock_data(symbol, start_date, end_date, file_path, remove_list):\n",
    "    '''\n",
    "    下載股票的資料，同時更新股票ID的清單\n",
    "    symbol : 股票的ID\n",
    "    start_date, end_date：要下載的日期區間\n",
    "    file_path：要存放的檔案路徑\n",
    "    remove_list：紀錄後續要廢棄的股票資料\n",
    "    '''\n",
    "    print(f\"{symbol}: Downloading data from {start_date} to {end_date}\")\n",
    "    output_file = f'{file_path}/{symbol}.csv'\n",
    "    stock_data = yf.download(f'{symbol}', start=start_date, end=end_date)\n",
    "    \n",
    "    # 檢查下載的股票數據是否為空，或者是否達到我們需要的最小數據量，或者是否已經停止交易\n",
    "    if stock_data.empty:\n",
    "        print(f\"{symbol}: 找不到對應的股票價格\")\n",
    "        remove_list.append(symbol)\n",
    "    elif len(stock_data) < 1500 :\n",
    "        print(f\"{symbol}: 資料量太少\")\n",
    "        remove_list.append(symbol)\n",
    "    elif stock_data.index[-1].year < current_year:\n",
    "        print(f\"{symbol}: 已經下市的股票\")\n",
    "        remove_list.append(symbol)\n",
    "    else:\n",
    "        # 如果股票數據有效，我們就保存它到一個 CSV 文件中\n",
    "        stock_data.to_csv(output_file, mode='a', header=not os.path.isfile(output_file))\n",
    "        print(f\"{symbol}: Data downloaded and saved successfully\")\n",
    "\n",
    "# 建置 0000~9999的股票ID        \n",
    "numbers = [str(num).zfill(4) for num in range(10000)]\n",
    "# 建置 yahoo api 可以接受的台股代碼 TW 代表上市的股票， TWO代表上櫃的股票\n",
    "list_number = [f'{num}.TW' for num in numbers] +  [f'{num}.TWO' for num in numbers] \n",
    "#指定日期區間\n",
    "start_date = '2009-01-01' \n",
    "end_date = end_date = (datetime.now() + timedelta(days=1) ).strftime(STOCK_DATE_FORMAT) # 今日\n",
    "\n",
    "# 執行 download_and_save_stock_data\n",
    "remove_list = []\n",
    "file_path = 'F:/python/pystock/data/original'\n",
    "for download_id in list_number:\n",
    "    download_and_save_stock_data(download_id, start_date, end_date, file_path, remove_list)\n",
    "    \n",
    "# 整理未來需要的股票資料，建立資料存放對應的資料檔案\n",
    "remove_list = list( set(remove_list))\n",
    "list_number = [item for item in list_number if item not in remove_list]\n",
    "df_list = pd.DataFrame(list_number)\n",
    "stock_List_path = 'F:/python/pystock/data/stock_List.csv'\n",
    "df_list.to_csv(stock_List_path, index=False)"
   ]
  },
  {
   "cell_type": "markdown",
   "id": "ac653ae7-a57f-499b-ba0b-e0427e7d53bf",
   "metadata": {},
   "source": [
    "這裡的代碼主要做了幾件事情：\n",
    "\n",
    "它首先建立了一個股票代碼的列表，然後對每一個股票代碼下載和保存數據。\n",
    "\n",
    "它使用一個叫做 yfinance 的模塊下載股票數據，這個模塊可以幫助我們從 Yahoo Finance 網站上獲取股票價格數據。\n",
    "\n",
    "下載數據後，它會檢查這些數據是否有效。如果數據不符合我們的需求，比如說數據太少，或者股票已經停止交易，那麼它會把這個股票代碼加入到一個叫做 remove_list 的列表中。\n",
    "\n",
    "最後，它將有效的股票代碼保存到一個 CSV 文件中，我們可以在後續的分析中使用這些股票代碼。\n",
    "\n",
    "這個部分的代碼可能有點複雜，但是如果你一步一步地跟著走，你會發現它其實是很有邏輯的。希望這個解釋能夠幫助你更好地理解這個代碼！"
   ]
  },
  {
   "cell_type": "code",
   "execution_count": null,
   "id": "a9450de9-6bb7-4244-a012-ee83d995882e",
   "metadata": {},
   "outputs": [],
   "source": [
    "# 這裡，我們首先讀取我們剛剛下載的股票數據。\n",
    "stock_List_path = 'F:/python/pystock/data/stock_List.csv'\n",
    "stock_List_data = pd.read_csv(stock_List_path, parse_dates=True)\n",
    "stock_List_data\n",
    "\n",
    "# 然後，我們選擇了一支特定的股票（0050.TW）來分析。\n",
    "file_path = 'F:/python/pystock/data/original'\n",
    "stock_0050_data = pd.read_csv(f'{file_path}/0050.TW.csv', parse_dates=True)\n",
    "stock_0050_data\n",
    "\n",
    "# 接著，我們繪製了該股票在特定日期範圍內的 K 線圖。K 線圖是一種常見的股市圖表，顯示了一段時間內的開盤價、收盤價、最高價和最低價。\n",
    "import mplfinance as mpf\n",
    "\n",
    "date_str = '2023-01-13'\n",
    "input_date = datetime.strptime(date_str, '%Y-%m-%d')\n",
    "\n",
    "# 計算 start_date 和 end_date\n",
    "start_date = input_date - timedelta(days=30)\n",
    "end_date = input_date + timedelta(days=5)\n",
    "\n",
    "# 設定日期區間\n",
    "start_date_str = start_date.strftime('%Y-%m-%d')\n",
    "end_date_str = end_date.strftime('%Y-%m-%d')\n",
    "data = stock_0050_data.loc[start_date_str:end_date_str]\n",
    "\n",
    "kwargs = dict(type='candle', volume=True, title='Stock Price', ylabel='Price')\n",
    "print(data )\n",
    "# 繪製K線圖\n",
    "mpf.plot(data, **kwargs)"
   ]
  },
  {
   "cell_type": "markdown",
   "id": "717efdb5-963c-455e-913b-62c03d50fef7",
   "metadata": {},
   "source": [
    "這裡，我們首先讀取了剛剛下載的股票數據，然後選擇了一支特定的股票來分析。我們繪製了該股票在特定日期範圍內的 K 線圖。K 線圖是一種常見的股市圖表，顯示了一段時間內的開盤價、收盤價、最高價和最低價。\n",
    "\n",
    "接下來，我們計算了每個交易日的交易量（股數乘以股價），並繪製了其分布圖。我們還計算了交易量的平均值和標準差，並根據這些數據繪製了一個信賴區間。\n",
    "\n",
    "最後，我們計算了交易量超過信賴區間下界的天數，並計算了這種情況的百分比。"
   ]
  },
  {
   "cell_type": "code",
   "execution_count": null,
   "id": "49b4edf8-0e4e-4c76-8918-043dfb8a0252",
   "metadata": {},
   "outputs": [],
   "source": [
    "# 讀取股票數據並計算每日的交易量（Volume * Close price）\n",
    "volume_list_total = []\n",
    "path = 'F:\\\\python\\\\pystock\\\\data\\\\original'\n",
    "\n",
    "file_list = os.listdir(path)\n",
    "for x in file_list:\n",
    "    df = pd.read_csv(f'{path}/{x}')\n",
    "    df['value_mon'] =  df.Volume*df.Close\n",
    "    volume_list_total += list(df['value_mon'])\n",
    "\n",
    "# 畫出交易量的分布\n",
    "import numpy as np\n",
    "import matplotlib.pyplot as plt\n",
    "\n",
    "data = np.array(volume_list_total)\n",
    "plt.hist(data, bins=100, density=True, alpha=0.5)\n",
    "plt.xlabel('Trading Volume')\n",
    "plt.ylabel('Frequency')\n",
    "plt.title('Distribution of Trading Volume')\n",
    "plt.show()\n",
    "\n",
    "# 從交易量中隨機抽樣並計算平均值和標準誤，進行統計分析\n",
    "sample_size = 1000\n",
    "num_samples = 1000\n",
    "sample_means = []\n",
    "for _ in range(num_samples):\n",
    "    sample = np.random.choice(data, size=sample_size, replace=False)\n",
    "    sample_mean = np.mean(sample)\n",
    "    sample_means.append(sample_mean)\n",
    "\n",
    "# 計算平均值的信賴區間\n",
    "mean = np.mean(sample_means)\n",
    "std_error = np.std(sample_means) / np.sqrt(num_samples)\n",
    "confidence_interval = (mean - 1.96 * std_error, mean + 1.96 * std_error)\n",
    "\n",
    "# 打印出信賴區間\n",
    "print(\"Confidence Interval: \", confidence_interval)\n",
    "\n",
    "# 計算交易量超過信賴區間下界的天數，並計算這種情況的百分比\n",
    "nnn = []\n",
    "for x in volume_list_total:\n",
    "    if x > confidence_interval[0] :\n",
    "        nnn.append(x)\n",
    "print(len(nnn))\n",
    "print(len(nnn)/len(volume_list_total))"
   ]
  }
 ],
 "metadata": {
  "kernelspec": {
   "display_name": "Python 3 (ipykernel)",
   "language": "python",
   "name": "python3"
  },
  "language_info": {
   "codemirror_mode": {
    "name": "ipython",
    "version": 3
   },
   "file_extension": ".py",
   "mimetype": "text/x-python",
   "name": "python",
   "nbconvert_exporter": "python",
   "pygments_lexer": "ipython3",
   "version": "3.9.13"
  }
 },
 "nbformat": 4,
 "nbformat_minor": 5
}
